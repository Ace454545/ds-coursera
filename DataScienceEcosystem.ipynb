{
 "cells": [
  {
   "cell_type": "markdown",
   "id": "9f5a828b",
   "metadata": {},
   "source": [
    "\n",
    "<h1>Data Science Tools and Ecosystem</h1>\n"
   ]
  },
  {
   "cell_type": "markdown",
   "id": "9c97cb86",
   "metadata": {},
   "source": [
    "In this notebook, Data Science Tools and Ecosystem are summarized."
   ]
  },
  {
   "cell_type": "markdown",
   "id": "c32c65a9",
   "metadata": {},
   "source": [
    "<b>Objectives: </b>\n",
    "    <ul>\n",
    "    <li>Name some popular languages used in data science</li>\n",
    "    <li>Name some commonly used python libraries</li>\n",
    "    <li>Display some examples of arithmetic in Python</li>\n",
    "    </ul>"
   ]
  },
  {
   "cell_type": "markdown",
   "id": "ac094bd2",
   "metadata": {},
   "source": [
    "Some of the popular languages that Data Scientists use are:\n",
    "    <ol>\n",
    "    <li>Scala</li>\n",
    "    <li>Python</li>\n",
    "    <li>SQL</li>\n",
    "    </ol>"
   ]
  },
  {
   "cell_type": "markdown",
   "id": "1f757563",
   "metadata": {},
   "source": [
    "Some of the commonly used Python libraries used by Data Scientists include:\n",
    "    <ol>\n",
    "    <li>Pandas</li>\n",
    "    <li>Scikit learn</li>\n",
    "    <li>Pytorch</li>\n",
    "    </ol>"
   ]
  },
  {
   "cell_type": "markdown",
   "id": "db6837d6",
   "metadata": {},
   "source": [
    "<table><tr><th>Data Science Tools</th></tr>\n",
    "<tr><td>Hadoop</td></tr>\n",
    "<tr><td>Apache Spark</td></tr>\n",
    "<tr><td>Scrapy</td></tr></table>"
   ]
  },
  {
   "cell_type": "markdown",
   "id": "12b4ed2c",
   "metadata": {},
   "source": [
    "<h3>Below are a few examples of evaluating arithmetic expressions in Python</h3>"
   ]
  },
  {
   "cell_type": "code",
   "execution_count": 1,
   "id": "e2b4c9c9",
   "metadata": {},
   "outputs": [
    {
     "name": "stdout",
     "output_type": "stream",
     "text": [
      "17\n"
     ]
    }
   ],
   "source": [
    "# This a simple arithmetic expression to multiply and then add integers.\n",
    "print((3*4)+5)"
   ]
  },
  {
   "cell_type": "code",
   "execution_count": 8,
   "id": "7d83a40b",
   "metadata": {},
   "outputs": [
    {
     "name": "stdout",
     "output_type": "stream",
     "text": [
      "200  minutes are  3 hour(s) and  20  minutes\n"
     ]
    }
   ],
   "source": [
    "#This will convert 200 minutes to hours by dividing by 60.\n",
    "mins=200\n",
    "print(mins, \" minutes are \" ,mins//60, \"hour(s) and \", mins%60, \" minutes\" )"
   ]
  },
  {
   "cell_type": "markdown",
   "id": "63a94c67",
   "metadata": {},
   "source": [
    "<h2>Author</h2>\n",
    "Shiv"
   ]
  },
  {
   "cell_type": "code",
   "execution_count": null,
   "id": "c3b77a32",
   "metadata": {},
   "outputs": [],
   "source": []
  }
 ],
 "metadata": {
  "kernelspec": {
   "display_name": "Python 3",
   "language": "python",
   "name": "python3"
  },
  "language_info": {
   "codemirror_mode": {
    "name": "ipython",
    "version": 3
   },
   "file_extension": ".py",
   "mimetype": "text/x-python",
   "name": "python",
   "nbconvert_exporter": "python",
   "pygments_lexer": "ipython3",
   "version": "3.8.8"
  }
 },
 "nbformat": 4,
 "nbformat_minor": 5
}
